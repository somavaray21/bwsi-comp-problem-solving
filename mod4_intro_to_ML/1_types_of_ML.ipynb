{
 "cells": [
  {
   "cell_type": "markdown",
   "id": "1e7851d0",
   "metadata": {},
   "source": [
    "# Introduction to ML: Types of Machine Learning"
   ]
  },
  {
   "cell_type": "markdown",
   "id": "b106c7ce",
   "metadata": {},
   "source": [
    "**Welcome to the first week of machine learning content! 🤖**\n",
    "\n",
    "This week's module will serve as a overview of the different families of ML algorithms and a general introduction to setting up ML pipelines.\n",
    "\n",
    "By the end of this module you should:\n",
    "- Be able to explain the different types of ML (qualitatively)\n",
    "- Argue why a problem suits a particular type of ML model\n",
    "- Understand the trade offs between interpretability/simplicity and robustness\n",
    "- Understand the impact of data "
   ]
  },
  {
   "cell_type": "markdown",
   "id": "1cd75316",
   "metadata": {},
   "source": [
    "## Supervised vs. Unsupervised Learning\n",
    "<p align=\"left\">\n",
    "    <img src = \"https://upload.wikimedia.org/wikipedia/commons/4/4d/Supervised_and_unsupervised_learning.png\" width = \"500\">\n",
    "</p>\n",
    "\n",
    "### What does \"supervision\" mean?\n",
    "Supervision generally refers to the presence of truth labels when training and testing an ML model. \n",
    "\n",
    "Supervised learning models have a pre-defined set labels or classes, whereas unsupervised learning is used to find structure in a given dataset."
   ]
  },
  {
   "cell_type": "markdown",
   "id": "23b5d2c1",
   "metadata": {},
   "source": [
    "### Supervised Learning 🧑‍🧒\n",
    "Supervised learning is a paradigm that requires a labeled dataset to train on. It trains algorithms to map from input data to desired output data based on how the data is labeled. \n",
    "\n",
    "A handwriting reader algorithm would be a good application for supervised learning. The labeled data would be images of handwritten text that are labeled with the literal text written. The algorithm would then learn to read handwriting by inputing images, guessing the text, and then changing the model based on whether or not it guessed correctly.\n",
    "\n",
    "Supervised learning paradigms are generally used for classification (think classifying images) or regression (for example, prediction of ocean levels from historical data). In a sentence, supervised learning creates a function that connects data to its labels."
   ]
  },
  {
   "cell_type": "markdown",
   "id": "ad91e36a",
   "metadata": {},
   "source": [
    "### Unsupervised Learning 🤸\n",
    "Unsupervised learning is a framework in which algorithms associate and categorize unlabaled data. It is used for more complex tasks than supervised learning. Instead of mapping from data to labels, it independently finds patterns in unlabeled data. \n",
    "\n",
    "Unsupervised learning models are trained by having the model attempt to copy input data, then changing the model so that its outputs more closely match the inputs. For a model that generates text, input text would be fed in, and the model would be changed based on how closely its output matched the input text.\n",
    "\n",
    "Because this framework doesn't require labels, it can identify and exptrapolate more complex relationships from a dataset. It finds whatever associations and connections that exist in the data and mimics them.\n",
    "\n",
    "While supervised learning has a predetermined expectation for input and output, unsupervised learning aims to categorize based solely on the data itself. "
   ]
  },
  {
   "cell_type": "markdown",
   "id": "3c010091",
   "metadata": {},
   "source": [
    "### Discussion 💬\n",
    "- Are there any situations you've learned from that mimic *supervised* learning?\n",
    "- Are there any situations you've learned from that mimic *unsupervised* learning?"
   ]
  },
  {
   "cell_type": "markdown",
   "id": "4e4a286b",
   "metadata": {},
   "source": [
    "### Applications\n",
    "\n",
    "Even though supervised and unsupervised learning may seem completely separate from each other, there is certainly some overlap!\n",
    "<p align=\"left\">\n",
    "    <img src = \"https://upload.wikimedia.org/wikipedia/commons/9/90/Task-guidance.png\" width = \"500\">\n",
    "</p>"
   ]
  },
  {
   "cell_type": "markdown",
   "id": "42dffc3e",
   "metadata": {},
   "source": [
    "### Discussion 💬\n",
    "- What are some other examples of problems suited for *supervised* learning?\n",
    "- What are some other examples of problems suited for *unsupervised* learning?\n",
    "----"
   ]
  },
  {
   "cell_type": "markdown",
   "id": "bfa0236b",
   "metadata": {},
   "source": [
    "## Deep Learning 🧠\n",
    "Neural networks are learning models that consist of multiple layers of artificial neurons. They are called deep learning models because they have a larger number of layers of artificial neurons, giving the model 'depth'. Every neural layer of the network is supposed to give the algorithm more room to abstract from the training data. The intention of the design is that each layer adds a level of dimensionality to the model. \n",
    "\n",
    "<p align=\"left\">\n",
    "    <img src = \"https://cdn.prod.website-files.com/634e9d5d7cb8f7fc56b28199/66a2f1efb5b625f74538bd2a_668f001243b877277fd25aa1_652ebc26fbd9a45bcec81819_Deep_Learning_vs_Machine_Learning_3033723be2.jpeg\" width = \"500\">\n",
    "</p>\n",
    "\n",
    "For image recognition, the first layer might take individual pixels for input and output lines, the next layer might output shapes, and the next might output categories such as square or circle. \n",
    "\n",
    "Neural networks can be trained with a range of supervision paradigms. They can be supervised, unsupervised, and semi-supervised.\n",
    "\n",
    "Certain kinds of neural networks can be prone to **overfitting**. "
   ]
  },
  {
   "cell_type": "markdown",
   "id": "d00e41b1",
   "metadata": {},
   "source": [
    "### Key Idea 💡\n",
    "**Sometimes the simplest/easiest to explain model is the best!**\n",
    "\n",
    "### Applications\n",
    "- Robotics\n",
    "- Image classification\n",
    "- natural language processing (e.g Siri)\n",
    "- Recent rise in LLMs like ChatGPT which are considered transformer NNs\n",
    "\n",
    "----"
   ]
  },
  {
   "cell_type": "markdown",
   "id": "667f5246",
   "metadata": {},
   "source": [
    "## Reinforcement Learning ⭐️\n",
    "\n",
    "Reinforcement learning is a paradigm in which the model does a kind of cost-benefit learning to improve. Certain behavior will be 'rewarded' and other behavior 'punished'. This is done by giving certain behaviors a numerical score. \n",
    "\n",
    "<p align=\"left\">\n",
    "    <img src = \"https://miro.medium.com/v2/resize:fit:1400/0*AMgCGArY675Kt1qG\" width = \"300\">\n",
    "</p>\n",
    "\n",
    "For example, a model that is training a walking robot would have a reward for going a farther distance, and be punished for falling over. Because they do not outright prohibit unwanted behavior, they can develop behavior that is more adaptable to complex environments than supervised methods while still being more goal-driven than unsupervised methods. \n",
    "\n",
    "### Applications\n",
    "- Robotics\n",
    "- Evolution modeling"
   ]
  },
  {
   "cell_type": "markdown",
   "id": "7be999fb",
   "metadata": {},
   "source": [
    "### Discussion 💬\n",
    "- Are there any times you've experienced reinforcement learning?\n",
    "\n",
    "----"
   ]
  },
  {
   "cell_type": "markdown",
   "id": "e5d3bd3b",
   "metadata": {},
   "source": [
    "## Final thoughts 💭\n",
    "\n",
    "As we being our journey through the various types of machine learning algorithms, it's important to remember that they are all built on linear algebra!\n",
    "\n",
    "<p align=\"left\">\n",
    "    <img src = \"https://imgs.xkcd.com/comics/machine_learning.png\" height = \"300\">\n",
    "    <img src = \"https://media.geeksforgeeks.org/wp-content/uploads/20250205014111659545/Maachine-Learning.webp\" height = \"300\">\n",
    "</p>\n"
   ]
  },
  {
   "cell_type": "markdown",
   "id": "4ff7a484",
   "metadata": {},
   "source": [
    "Understanding the mathematical concepts and general algorithm steps will be extremely useful when deciding which paradigm suits a given problem.\n",
    "\n",
    "We will spend the rest of the course covering some of these algorithm families in more depth!\n",
    "\n",
    "<p align=\"left\">\n",
    "    <img src = \"https://www.mathworks.com/discovery/reinforcement-learning/_jcr_content/thumbnail.adapt.1200.medium.png/1601891958466.png\" height = \"300\">\n",
    "</p>\n",
    "\n",
    "**At the end of the day, ML algorithms are only as good as the data going into them and the domain knowledge of the person building them!** "
   ]
  }
 ],
 "metadata": {
  "language_info": {
   "name": "python"
  }
 },
 "nbformat": 4,
 "nbformat_minor": 5
}
