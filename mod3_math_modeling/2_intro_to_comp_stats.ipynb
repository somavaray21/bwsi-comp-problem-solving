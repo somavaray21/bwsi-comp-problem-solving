{
 "cells": [
  {
   "cell_type": "markdown",
   "id": "36afa36f",
   "metadata": {},
   "source": [
    "# Math Modeling: Intro to Computational Statistics"
   ]
  },
  {
   "cell_type": "code",
   "execution_count": null,
   "id": "d7007066",
   "metadata": {},
   "outputs": [],
   "source": [
    "import numpy as np\n",
    "import matplotlib.pyplot as plt"
   ]
  },
  {
   "cell_type": "markdown",
   "id": "09fb27b8",
   "metadata": {},
   "source": [
    "## Definition of Probability\n",
    "In general, a probability is a numerical measure of the chance that a given event happens. \n",
    "\n",
    "The probability of an event is always between 0 and 1, since it's calculated by dividing the number of occurences by the number of all possible outcomes.\n",
    "\n",
    "For example, fair dice have a $1/6$ chance of rolling a 3 and a fair coin has a $1/2$ chance of landing heads or tails. \n",
    "\n",
    "\n",
    "### Probability vs. Likelihood\n",
    "There are a few English words we often use interchangably that have very specific meanings in statistics. A key example of this is likelihood vs. probability. \n",
    "\n",
    "|Word| Description| What they measure| Example|\n",
    "|--|--|--|--|\n",
    "| Probability| The odds of something happening| outcomes| 1/2 chance of a fair coin landing on tails|\n",
    "|Likelihood| The odds that a model explains the observed behavior| hypotheses| \"My best fit line has a high likelihood of explaining my data\"|"
   ]
  },
  {
   "cell_type": "markdown",
   "id": "a3fddeb5",
   "metadata": {},
   "source": [
    "### Q: Suppose you have 2 shirts (1 red, 1 blue) as well as 3 pairs of pants (1 black, 1 blue, 1 grey).\n",
    "a. How many possible outfits can you make?\n",
    "\n",
    "b. Assuming you have an equal chance of choosing any shirt/pair of pants, calculate the probability of choosing an outfit with **at least 1 blue item of clothing**"
   ]
  },
  {
   "cell_type": "markdown",
   "id": "7a4cd3d1",
   "metadata": {},
   "source": [
    "### A:\n",
    "\n",
    "YOUR ANSWER HERE"
   ]
  },
  {
   "cell_type": "markdown",
   "id": "7796b267",
   "metadata": {},
   "source": [
    "### Probability Densities\n",
    "The **probability function** is simply the probability of a given event occuring vs. the possible values. It's important to note that these density functions can be either discrete or continuous!\n",
    "\n",
    "Our examples from above are both discrete (specifically called probability mass functions), since a die can only land on whole number values and a coin can only land on heads or tails. A continuous example could be the probability density function of a person's height. \n",
    "\n",
    "We will discuss some of the special types of distributions in the section below."
   ]
  },
  {
   "cell_type": "markdown",
   "id": "029485f2",
   "metadata": {},
   "source": [
    "## Common Distributions\n",
    "\n",
    "| Name | Description | Example|\n",
    "|--|--|--|\n",
    "| Uniform | all values are equally likely | The probability of each outcome when rolling a fair die are all 1/6|\n",
    "| Gaussian | The data is normally distributed | [Adult female heights](https://distributionofthings.com/human-height/)| \n",
    "| Bernoulli | results in only boolean or binary outcomes| flipping a coin |\n"
   ]
  },
  {
   "cell_type": "code",
   "execution_count": null,
   "id": "bdba5ed0",
   "metadata": {},
   "outputs": [],
   "source": [
    "n_vals = [10, 100,1000,10000]                       # sample size\n",
    "fig, axes = plt.subplots(3,len(n_vals), \n",
    "                         figsize = (16,6), \n",
    "                         tight_layout=True)\n",
    "fig.suptitle(\"Sample sizes: {}\".format(n_vals))\n",
    "\n",
    "for i in range(len(n_vals)):\n",
    "    dice_rolls = np.random.randint(6, size=n_vals[i])   # Uniformly distributed dice rolls\n",
    "    heights = 159+ 6*np.random.randn(n_vals[i])         # Normally distributed adult female heights, cm \n",
    "    coin_flips = np.random.binomial(1, 0.5, n_vals[i])  # Binomially distributed coin flips\n",
    "\n",
    "    axes[0,i].hist(dice_rolls, density=True, bins=np.arange(-0.5,6.5,1))\n",
    "    axes[0,i].set_xticks(np.arange(6), labels=np.arange(1,7))\n",
    "    axes[0,i].set(xlim=[-0.5,5.5])\n",
    "    axes[0,i].set_title(\"Uniform Distribution: Dice Rolls\")\n",
    "    axes[0,i].set_ylabel(\"PDF\")\n",
    "\n",
    "    axes[1,i].hist(heights, density=True, bins=50)\n",
    "    axes[1,i].set_title(\"Uniform Distribution: Adult Female Heights\")\n",
    "    axes[1,i].set_ylabel(\"PDF\")\n",
    "    axes[1,i].set_xlabel(\"Heights, cm\")\n",
    "\n",
    "    axes[2,i].hist(coin_flips, density=True, bins=[-0.5,0.5,1.5])\n",
    "    axes[2,i].set_xticks([0,1], labels=[\"Heads\", \"Tails\"])\n",
    "    axes[2,i].set_title(\"Binomial Distribution: Coin Flips\")\n",
    "    axes[2,i].set_ylabel(\"PDF\")\n",
    "\n"
   ]
  },
  {
   "cell_type": "markdown",
   "id": "05f79f7f",
   "metadata": {},
   "source": [
    "### Q: What do you notice as the number of samples increases? \n",
    "Please comment on the qualitative shapes as well as the y values as n increases"
   ]
  },
  {
   "cell_type": "markdown",
   "id": "bf6fdd0c",
   "metadata": {},
   "source": [
    "### A: \n",
    "YOUR ANSWER HERE"
   ]
  },
  {
   "cell_type": "markdown",
   "id": "4448cb01",
   "metadata": {},
   "source": [
    "## Monty Hall Problem\n",
    "A classic statistical example is called the [Monty Hall problem](https://en.wikipedia.org/wiki/Monty_Hall_problem). The idea is that you are on a gameshow and there is a car behind 1 of 3 doors. There is a goat behind each of the other 2 doors. You blindly choose 1 door that you think the car is behind. The host reveals one of the doors with a goat behind it. You can either stay with your initial choice or swap doors.\n",
    "\n",
    "The following sections will discuss various methods we can use to analyze the possible outcomes (i.e. a win or loss).\n",
    "\n",
    "We will start by solving this using brute force!"
   ]
  },
  {
   "cell_type": "markdown",
   "id": "e57a55dc",
   "metadata": {},
   "source": [
    "### Brute Force\n",
    "Suppose you initially chose Door #1. We can tabulate all possible outcomes given that choice as follows:\n",
    "\n",
    "|Behind Door 1 |Behind Door 2| Behind Door 3 |Stay with Door 1| Switch door|\n",
    "|--|--|--|--|--|\n",
    "|Goat| Goat| **Car**| Lose | *Win* |\n",
    "|Goat| **Car**| Goat| Lose | *Win* |\n",
    "|**Car**| Goat| Goat| *Win* | Lose |"
   ]
  },
  {
   "cell_type": "markdown",
   "id": "b173ca01",
   "metadata": {},
   "source": [
    "### Q: Repeat this process but with initial choice Door 2 and Door 3"
   ]
  },
  {
   "cell_type": "markdown",
   "id": "da02ec02",
   "metadata": {},
   "source": [
    "### A:"
   ]
  },
  {
   "cell_type": "markdown",
   "id": "5571bf91",
   "metadata": {},
   "source": [
    "Initially choosing Door 2:\n",
    "\n",
    "|Behind Door 1 |Behind Door 2| Behind Door 3 |Stay with Door 2| Switch door|\n",
    "|--|--|--|--|--|\n",
    "|Goat| Goat| **Car**| ??? | ??? |\n",
    "|Goat| **Car**| Goat| ??? | ??? |\n",
    "|**Car**| Goat| Goat| ??? | ??? |"
   ]
  },
  {
   "cell_type": "markdown",
   "id": "91abe0fb",
   "metadata": {},
   "source": [
    "Initially choosing Door 3:\n",
    "\n",
    "|Behind Door 1 |Behind Door 2| Behind Door 3 |Stay with Door 3| Switch door|\n",
    "|--|--|--|--|--|\n",
    "|Goat| Goat| **Car**| ??? | ??? |\n",
    "|Goat| **Car**| Goat| ??? | ??? |\n",
    "|**Car**| Goat| Goat| ??? | ??? |"
   ]
  },
  {
   "cell_type": "markdown",
   "id": "370655b2",
   "metadata": {},
   "source": [
    "### Q: What is the probability of winning given each decision?"
   ]
  },
  {
   "cell_type": "markdown",
   "id": "2fc07231",
   "metadata": {},
   "source": [
    "### A: \n",
    "a. Staying with your initial choice?\n",
    "\n",
    "b. Switching your choice?"
   ]
  },
  {
   "cell_type": "markdown",
   "id": "829d94dc",
   "metadata": {},
   "source": [
    "### Q: Does the chance of winning depend on the initial choice? Discuss why or why not."
   ]
  },
  {
   "cell_type": "markdown",
   "id": "2d3924cd",
   "metadata": {},
   "source": [
    "### A: \n",
    "YOUR ANSWER HERE"
   ]
  },
  {
   "cell_type": "markdown",
   "id": "39ea4abd",
   "metadata": {},
   "source": [
    "## Monte Carlo Simulations\n",
    "Monte Carlo simulations are based on the idea that you can converge on the distribution of outcomes with enough samples\n",
    "\n",
    "Monte Carlo simulations are useful when you don't want to make assumptions about certain parameters. \n",
    "\n",
    "They can also be useful when you don't have intuition about the analytical solution.\n"
   ]
  },
  {
   "cell_type": "markdown",
   "id": "5cfa1a17",
   "metadata": {},
   "source": [
    "### Q: Solve this using Monte Carlo simulations"
   ]
  },
  {
   "cell_type": "markdown",
   "id": "15521108",
   "metadata": {},
   "source": [
    "### A:\n",
    "Please uncomment and edit the skeleton code below as necessary"
   ]
  },
  {
   "cell_type": "code",
   "execution_count": null,
   "id": "064fe478",
   "metadata": {},
   "outputs": [],
   "source": [
    "def monty_hall_sim(num_mc : int, init_choice : int) -> tuple:\n",
    "    \"\"\" \n",
    "    INPUTS\n",
    "    num_mc: number of monte carlos to run\n",
    "    init_choice: fixed initial door choice = [1,2,3]\n",
    "\n",
    "    RETURNS\n",
    "    outcome_keep: string array \n",
    "    \"\"\"\n",
    "    all_doors = [1,2,3]\n",
    "\n",
    "    outcome_keep = np.zeros(num_mc)\n",
    "    outcome_switch = np.zeros(num_mc)\n",
    "    for i in range(num_mc):\n",
    "        # Randomly choose a door for the prize to be behind\n",
    "        prize_door = np.random.choice(all_doors)\n",
    "\n",
    "        # Simulate outcomes: \n",
    "        # 1 = win, 0 = loss\n",
    "        if prize_door == init_choice:\n",
    "            #outcome_keep[i] = ???\n",
    "            #outcome_switch[i] = ???\n",
    "        else:\n",
    "            #outcome_keep[i] = ???\n",
    "            #outcome_switch[i] = ???\n",
    "    \n",
    "    return outcome_keep, outcome_switch"
   ]
  },
  {
   "cell_type": "code",
   "execution_count": null,
   "id": "ab03d478",
   "metadata": {},
   "outputs": [],
   "source": [
    "# HINT: play with num_mc to see the outputs with larger Monte Carlos\n",
    "num_mc = 100\n",
    "outcome_keep, outcome_switch = monty_hall_sim(num_mc, 1)\n",
    "print(\"Chance of winning given you STAY: {}%\".format(sum(outcome_keep)/num_mc))\n",
    "print(\"Chance of winning given you SWITCH: {}%\".format(sum(outcome_switch)/num_mc))"
   ]
  },
  {
   "cell_type": "markdown",
   "id": "bbfd912d",
   "metadata": {},
   "source": [
    "## Bayesian Inference\n",
    "Bayesian inference helps us make decisions *given* a particular condition is true. For the Monty Hall problem, we want the probability of winning the car *given* the car is not behind Door N.\n",
    "\n",
    "Symbolically, we can define this in general as follows:\n",
    "\n",
    "$$\n",
    "P(A | B) = \\frac{P(B|A) P(A)}{P(B)}\n",
    "$$\n",
    "\n",
    "In words:\n",
    "$$P(A | B) = \\text{conditional probability of A being true, given that B is true}$$\n",
    "$$P(B| A) = \\text{conditional probability of B being true, given that A is true}$$\n",
    "$$P(A) = \\text{marginal probability of A being true}$$\n",
    "$$P(B) = \\text{marginal probability of B being true}$$\n"
   ]
  },
  {
   "cell_type": "markdown",
   "id": "7f215c49",
   "metadata": {},
   "source": [
    "### Q: Solve for the probability of winning if your initial choice = Door 1 and prize door = Door 2 using Bayes' theorem\n",
    "Hint: we want to solve $P(\\text{car is behind Door 1}  |  \\text{car not behind Door 3})$"
   ]
  },
  {
   "cell_type": "markdown",
   "id": "2baeac2a",
   "metadata": {},
   "source": [
    "### A: \n",
    "$$P(B| A) = ??? $$\n",
    "$$P(A) = ??? $$\n",
    "$$P(B) = ??? $$\n",
    "\n",
    "$$ \\implies P(A | B) = \\frac{P(B|A) P(A)}{P(B)}  = ??? $$"
   ]
  }
 ],
 "metadata": {
  "kernelspec": {
   "display_name": "base",
   "language": "python",
   "name": "python3"
  },
  "language_info": {
   "codemirror_mode": {
    "name": "ipython",
    "version": 3
   },
   "file_extension": ".py",
   "mimetype": "text/x-python",
   "name": "python",
   "nbconvert_exporter": "python",
   "pygments_lexer": "ipython3",
   "version": "3.12.8"
  }
 },
 "nbformat": 4,
 "nbformat_minor": 5
}
